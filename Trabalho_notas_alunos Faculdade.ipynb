{
  "nbformat": 4,
  "nbformat_minor": 0,
  "metadata": {
    "colab": {
      "provenance": [],
      "authorship_tag": "ABX9TyPkUYwMDrcAdtnpjRNSWcef",
      "include_colab_link": true
    },
    "kernelspec": {
      "name": "python3",
      "display_name": "Python 3"
    },
    "language_info": {
      "name": "python"
    }
  },
  "cells": [
    {
      "cell_type": "markdown",
      "metadata": {
        "id": "view-in-github",
        "colab_type": "text"
      },
      "source": [
        "<a href=\"https://colab.research.google.com/github/LeoFagundes07/ATIVIDADES/blob/main/Trabalho_notas_alunos%20Faculdade.ipynb\" target=\"_parent\"><img src=\"https://colab.research.google.com/assets/colab-badge.svg\" alt=\"Open In Colab\"/></a>"
      ]
    },
    {
      "cell_type": "code",
      "execution_count": 3,
      "metadata": {
        "id": "Pri_hIlDWoTH"
      },
      "outputs": [],
      "source": [
        "#Você foi contratado para desenvolver um sistema simples de gestão de notas de alunos\n",
        "#O sistema deve permitir que o usuário adicione notas\n",
        "#calcule a média das notas.\n",
        "# determine a situação do aluno (aprovado ou reprovado)\n"
      ]
    },
    {
      "cell_type": "code",
      "source": [
        "#Você foi contratado para desenvolver um sistema simples de gestão de notas de alunos\n",
        "# O sistema deve permitir que o usuário adicione notas\n",
        "# calcule a média das notas. determine a situação do aluno (aprovado ou reprovado)\n",
        "\n",
        "def calcular_media(notas):\n",
        "  #Calcula a média de uma lista de notas.\n",
        "  if not notas:\n",
        "    return 0\n",
        "  return sum(notas) / len(notas)\n",
        "\n",
        "def verificar_situacao(media):\n",
        "#Verifica se o aluno foi aprovado ou reprovado com base na média.\n",
        "  if media >= 7:\n",
        "    return \"Aprovado\"\n",
        "  else:\n",
        "    return \"Reprovado\"\n",
        "\n",
        "notas_aluno = []\n",
        "while True:\n",
        "  try:\n",
        "    nota = float(input(\"Digite a nota do aluno (ou deixe em branco para finalizar): \"))\n",
        "    notas_aluno.append(nota)\n",
        "  except ValueError:\n",
        "    break\n",
        "\n",
        "media = calcular_media(notas_aluno)\n",
        "situacao = verificar_situacao(media)\n",
        "\n",
        "print(f\"Notas do aluno: {notas_aluno}\")\n",
        "print(f\"Média do aluno: {media}\")\n",
        "print(f\"Situação do aluno: {situacao}\")\n"
      ],
      "metadata": {
        "colab": {
          "base_uri": "https://localhost:8080/"
        },
        "id": "Fa5r-pZ6XDIq",
        "outputId": "15b7b01a-6a56-4711-e55a-607bed3d9357"
      },
      "execution_count": 6,
      "outputs": [
        {
          "output_type": "stream",
          "name": "stdout",
          "text": [
            "Digite a nota do aluno (ou deixe em branco para finalizar): 7\n",
            "Digite a nota do aluno (ou deixe em branco para finalizar): 8\n",
            "Digite a nota do aluno (ou deixe em branco para finalizar): 7\n",
            "Digite a nota do aluno (ou deixe em branco para finalizar): 9 \n",
            "Digite a nota do aluno (ou deixe em branco para finalizar): \n",
            "Notas do aluno: [7.0, 8.0, 7.0, 9.0]\n",
            "Média do aluno: 7.75\n",
            "Situação do aluno: Aprovado\n"
          ]
        }
      ]
    }
  ]
}